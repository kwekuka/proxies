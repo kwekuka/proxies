{
 "cells": [
  {
   "cell_type": "code",
   "execution_count": 1,
   "metadata": {},
   "outputs": [
    {
     "name": "stdout",
     "output_type": "stream",
     "text": [
      "\n"
     ]
    },
    {
     "name": "stderr",
     "output_type": "stream",
     "text": [
      "/Users/kaggrey/Documents/research/proxies/experiments/../src/datasets.py:87: FutureWarning: Downcasting behavior in `replace` is deprecated and will be removed in a future version. To retain the old behavior, explicitly call `result.infer_objects(copy=False)`. To opt-in to the future behavior, set `pd.set_option('future.no_silent_downcasting', True)`\n",
      "  targets = self.data[\"derived_race\"].replace(self.map_to_index)\n"
     ]
    }
   ],
   "source": [
    "import sys\n",
    "import numpy as np \n",
    "import pandas as pd \n",
    "sys.path.append('..')\n",
    "import matplotlib.cm as cm\n",
    "from src.datasets import HMDA \n",
    "import matplotlib.pyplot as plt\n",
    "from src.proxies import gBisg, mlBisg\n",
    "from sklearn.linear_model import LogisticRegression\n",
    "from sklearn.ensemble import GradientBoostingClassifier, RandomForestClassifier"
   ]
  },
  {
   "cell_type": "code",
   "execution_count": 8,
   "metadata": {},
   "outputs": [
    {
     "name": "stderr",
     "output_type": "stream",
     "text": [
      "/Users/kaggrey/Documents/research/proxies/experiments/../src/datasets.py:87: FutureWarning: Downcasting behavior in `replace` is deprecated and will be removed in a future version. To retain the old behavior, explicitly call `result.infer_objects(copy=False)`. To opt-in to the future behavior, set `pd.set_option('future.no_silent_downcasting', True)`\n",
      "  targets = self.data[\"derived_race\"].replace(self.map_to_index)\n"
     ]
    }
   ],
   "source": [
    "from src.datasets import HMDA\n",
    "from src.proxies import gBisg, mlBisg\n",
    "\n",
    "\n",
    "hmda = HMDA(\"../data/hmda/hmda.csv\", outcome=True, geo=\"tract\")\n",
    "X_train, X_test, Y_train, Y_test = hmda.get_data(split=.5, return_bisg=False)\n",
    "\n",
    "gbisg = gBisg()\n",
    "mlbisg = mlBisg(model=\"mr\", proxy=gbisg)\n",
    "mlbisg.train(X_train, Y_train)\n",
    "predicted = mlbisg.inference(X_test)"
   ]
  },
  {
   "cell_type": "code",
   "execution_count": null,
   "metadata": {},
   "outputs": [],
   "source": [
    "#TODO: Add calibration plots "
   ]
  }
 ],
 "metadata": {
  "kernelspec": {
   "display_name": "Python 3",
   "language": "python",
   "name": "python3"
  },
  "language_info": {
   "codemirror_mode": {
    "name": "ipython",
    "version": 3
   },
   "file_extension": ".py",
   "mimetype": "text/x-python",
   "name": "python",
   "nbconvert_exporter": "python",
   "pygments_lexer": "ipython3",
   "version": "3.11.3"
  }
 },
 "nbformat": 4,
 "nbformat_minor": 2
}
